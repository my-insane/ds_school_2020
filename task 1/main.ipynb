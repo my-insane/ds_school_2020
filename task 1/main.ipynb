{
 "cells": [
  {
   "cell_type": "code",
   "execution_count": 2,
   "metadata": {},
   "outputs": [],
   "source": [
    "import pandas as pd\n",
    "import numpy as np"
   ]
  },
  {
   "cell_type": "code",
   "execution_count": 3,
   "metadata": {
    "pycharm": {
     "name": "#%%\n"
    }
   },
   "outputs": [
    {
     "data": {
      "text/plain": "     id                                              name  host_id  \\\n0  2539                Clean & quiet apt home by the park     2787   \n1  2595                             Skylit Midtown Castle     2845   \n2  3647               THE VILLAGE OF HARLEM....NEW YORK !     4632   \n3  3831                   Cozy Entire Floor of Brownstone     4869   \n4  5022  Entire Apt: Spacious Studio/Loft by central park     7192   \n5  5099         Large Cozy 1 BR Apartment In Midtown East     7322   \n6  5121                                   BlissArtsSpace!     7356   \n7  5178                  Large Furnished Room Near B'way      8967   \n8  5203                Cozy Clean Guest Room - Family Apt     7490   \n9  5238                Cute & Cozy Lower East Side 1 bdrm     7549   \n\n     host_name neighbourhood_group       neighbourhood  latitude  longitude  \\\n0         John            Brooklyn          Kensington  40.64749  -73.97237   \n1     Jennifer           Manhattan             Midtown  40.75362  -73.98377   \n2    Elisabeth           Manhattan              Harlem  40.80902  -73.94190   \n3  LisaRoxanne            Brooklyn        Clinton Hill  40.68514  -73.95976   \n4        Laura           Manhattan         East Harlem  40.79851  -73.94399   \n5        Chris           Manhattan         Murray Hill  40.74767  -73.97500   \n6        Garon            Brooklyn  Bedford-Stuyvesant  40.68688  -73.95596   \n7     Shunichi           Manhattan      Hell's Kitchen  40.76489  -73.98493   \n8    MaryEllen           Manhattan     Upper West Side  40.80178  -73.96723   \n9          Ben           Manhattan           Chinatown  40.71344  -73.99037   \n\n         room_type  price  minimum_nights  number_of_reviews last_review  \\\n0     Private room    149               1                  9  2018-10-19   \n1  Entire home/apt    225               1                 45  2019-05-21   \n2     Private room    150               3                  0         NaN   \n3  Entire home/apt     89               1                270  2019-07-05   \n4  Entire home/apt     80              10                  9  2018-11-19   \n5  Entire home/apt    200               3                 74  2019-06-22   \n6     Private room     60              45                 49  2017-10-05   \n7     Private room     79               2                430  2019-06-24   \n8     Private room     79               2                118  2017-07-21   \n9  Entire home/apt    150               1                160  2019-06-09   \n\n   reviews_per_month  calculated_host_listings_count  availability_365  \n0               0.21                               6               365  \n1               0.38                               2               355  \n2                NaN                               1               365  \n3               4.64                               1               194  \n4               0.10                               1                 0  \n5               0.59                               1               129  \n6               0.40                               1                 0  \n7               3.47                               1               220  \n8               0.99                               1                 0  \n9               1.33                               4               188  ",
      "text/html": "<div>\n<style scoped>\n    .dataframe tbody tr th:only-of-type {\n        vertical-align: middle;\n    }\n\n    .dataframe tbody tr th {\n        vertical-align: top;\n    }\n\n    .dataframe thead th {\n        text-align: right;\n    }\n</style>\n<table border=\"1\" class=\"dataframe\">\n  <thead>\n    <tr style=\"text-align: right;\">\n      <th></th>\n      <th>id</th>\n      <th>name</th>\n      <th>host_id</th>\n      <th>host_name</th>\n      <th>neighbourhood_group</th>\n      <th>neighbourhood</th>\n      <th>latitude</th>\n      <th>longitude</th>\n      <th>room_type</th>\n      <th>price</th>\n      <th>minimum_nights</th>\n      <th>number_of_reviews</th>\n      <th>last_review</th>\n      <th>reviews_per_month</th>\n      <th>calculated_host_listings_count</th>\n      <th>availability_365</th>\n    </tr>\n  </thead>\n  <tbody>\n    <tr>\n      <th>0</th>\n      <td>2539</td>\n      <td>Clean &amp; quiet apt home by the park</td>\n      <td>2787</td>\n      <td>John</td>\n      <td>Brooklyn</td>\n      <td>Kensington</td>\n      <td>40.64749</td>\n      <td>-73.97237</td>\n      <td>Private room</td>\n      <td>149</td>\n      <td>1</td>\n      <td>9</td>\n      <td>2018-10-19</td>\n      <td>0.21</td>\n      <td>6</td>\n      <td>365</td>\n    </tr>\n    <tr>\n      <th>1</th>\n      <td>2595</td>\n      <td>Skylit Midtown Castle</td>\n      <td>2845</td>\n      <td>Jennifer</td>\n      <td>Manhattan</td>\n      <td>Midtown</td>\n      <td>40.75362</td>\n      <td>-73.98377</td>\n      <td>Entire home/apt</td>\n      <td>225</td>\n      <td>1</td>\n      <td>45</td>\n      <td>2019-05-21</td>\n      <td>0.38</td>\n      <td>2</td>\n      <td>355</td>\n    </tr>\n    <tr>\n      <th>2</th>\n      <td>3647</td>\n      <td>THE VILLAGE OF HARLEM....NEW YORK !</td>\n      <td>4632</td>\n      <td>Elisabeth</td>\n      <td>Manhattan</td>\n      <td>Harlem</td>\n      <td>40.80902</td>\n      <td>-73.94190</td>\n      <td>Private room</td>\n      <td>150</td>\n      <td>3</td>\n      <td>0</td>\n      <td>NaN</td>\n      <td>NaN</td>\n      <td>1</td>\n      <td>365</td>\n    </tr>\n    <tr>\n      <th>3</th>\n      <td>3831</td>\n      <td>Cozy Entire Floor of Brownstone</td>\n      <td>4869</td>\n      <td>LisaRoxanne</td>\n      <td>Brooklyn</td>\n      <td>Clinton Hill</td>\n      <td>40.68514</td>\n      <td>-73.95976</td>\n      <td>Entire home/apt</td>\n      <td>89</td>\n      <td>1</td>\n      <td>270</td>\n      <td>2019-07-05</td>\n      <td>4.64</td>\n      <td>1</td>\n      <td>194</td>\n    </tr>\n    <tr>\n      <th>4</th>\n      <td>5022</td>\n      <td>Entire Apt: Spacious Studio/Loft by central park</td>\n      <td>7192</td>\n      <td>Laura</td>\n      <td>Manhattan</td>\n      <td>East Harlem</td>\n      <td>40.79851</td>\n      <td>-73.94399</td>\n      <td>Entire home/apt</td>\n      <td>80</td>\n      <td>10</td>\n      <td>9</td>\n      <td>2018-11-19</td>\n      <td>0.10</td>\n      <td>1</td>\n      <td>0</td>\n    </tr>\n    <tr>\n      <th>5</th>\n      <td>5099</td>\n      <td>Large Cozy 1 BR Apartment In Midtown East</td>\n      <td>7322</td>\n      <td>Chris</td>\n      <td>Manhattan</td>\n      <td>Murray Hill</td>\n      <td>40.74767</td>\n      <td>-73.97500</td>\n      <td>Entire home/apt</td>\n      <td>200</td>\n      <td>3</td>\n      <td>74</td>\n      <td>2019-06-22</td>\n      <td>0.59</td>\n      <td>1</td>\n      <td>129</td>\n    </tr>\n    <tr>\n      <th>6</th>\n      <td>5121</td>\n      <td>BlissArtsSpace!</td>\n      <td>7356</td>\n      <td>Garon</td>\n      <td>Brooklyn</td>\n      <td>Bedford-Stuyvesant</td>\n      <td>40.68688</td>\n      <td>-73.95596</td>\n      <td>Private room</td>\n      <td>60</td>\n      <td>45</td>\n      <td>49</td>\n      <td>2017-10-05</td>\n      <td>0.40</td>\n      <td>1</td>\n      <td>0</td>\n    </tr>\n    <tr>\n      <th>7</th>\n      <td>5178</td>\n      <td>Large Furnished Room Near B'way</td>\n      <td>8967</td>\n      <td>Shunichi</td>\n      <td>Manhattan</td>\n      <td>Hell's Kitchen</td>\n      <td>40.76489</td>\n      <td>-73.98493</td>\n      <td>Private room</td>\n      <td>79</td>\n      <td>2</td>\n      <td>430</td>\n      <td>2019-06-24</td>\n      <td>3.47</td>\n      <td>1</td>\n      <td>220</td>\n    </tr>\n    <tr>\n      <th>8</th>\n      <td>5203</td>\n      <td>Cozy Clean Guest Room - Family Apt</td>\n      <td>7490</td>\n      <td>MaryEllen</td>\n      <td>Manhattan</td>\n      <td>Upper West Side</td>\n      <td>40.80178</td>\n      <td>-73.96723</td>\n      <td>Private room</td>\n      <td>79</td>\n      <td>2</td>\n      <td>118</td>\n      <td>2017-07-21</td>\n      <td>0.99</td>\n      <td>1</td>\n      <td>0</td>\n    </tr>\n    <tr>\n      <th>9</th>\n      <td>5238</td>\n      <td>Cute &amp; Cozy Lower East Side 1 bdrm</td>\n      <td>7549</td>\n      <td>Ben</td>\n      <td>Manhattan</td>\n      <td>Chinatown</td>\n      <td>40.71344</td>\n      <td>-73.99037</td>\n      <td>Entire home/apt</td>\n      <td>150</td>\n      <td>1</td>\n      <td>160</td>\n      <td>2019-06-09</td>\n      <td>1.33</td>\n      <td>4</td>\n      <td>188</td>\n    </tr>\n  </tbody>\n</table>\n</div>"
     },
     "execution_count": 3,
     "metadata": {},
     "output_type": "execute_result"
    }
   ],
   "source": [
    "df = pd.read_csv('AB_NYC_2019.csv')\n",
    "df.head(10)"
   ]
  },
  {
   "cell_type": "markdown",
   "metadata": {
    "pycharm": {
     "name": "#%% md\n"
    }
   },
   "source": [
    "1. id  listing ID\n",
    "0. name  name of the listing\n",
    "0. host_id   host ID\n",
    "0. host_name name of the host\n",
    "0. neighbourhood_group   location\n",
    "0. neighbourhood  area\n",
    "0. latitude  latitude coordinates\n",
    "0. longitude longitude coordinates\n",
    "0. room_type listing space type\n",
    "0. price price in dollars\n",
    "0. minimum_nights    amount of nights minimum\n",
    "0. number_of_reviews number of reviews\n",
    "0. last_review   latest review\n",
    "0. reviews_per_month number of reviews per month\n",
    "0. calculated_host_listings_count    amount of listing per host"
   ]
  },
  {
   "cell_type": "code",
   "execution_count": 4,
   "metadata": {},
   "outputs": [
    {
     "name": "stdout",
     "output_type": "stream",
     "text": [
      "(48895, 16)\n",
      "<class 'pandas.core.frame.DataFrame'>\n",
      "RangeIndex: 48895 entries, 0 to 48894\n",
      "Data columns (total 16 columns):\n",
      " #   Column                          Non-Null Count  Dtype  \n",
      "---  ------                          --------------  -----  \n",
      " 0   id                              48895 non-null  int64  \n",
      " 1   name                            48879 non-null  object \n",
      " 2   host_id                         48895 non-null  int64  \n",
      " 3   host_name                       48874 non-null  object \n",
      " 4   neighbourhood_group             48895 non-null  object \n",
      " 5   neighbourhood                   48895 non-null  object \n",
      " 6   latitude                        48895 non-null  float64\n",
      " 7   longitude                       48895 non-null  float64\n",
      " 8   room_type                       48895 non-null  object \n",
      " 9   price                           48895 non-null  int64  \n",
      " 10  minimum_nights                  48895 non-null  int64  \n",
      " 11  number_of_reviews               48895 non-null  int64  \n",
      " 12  last_review                     38843 non-null  object \n",
      " 13  reviews_per_month               38843 non-null  float64\n",
      " 14  calculated_host_listings_count  48895 non-null  int64  \n",
      " 15  availability_365                48895 non-null  int64  \n",
      "dtypes: float64(3), int64(7), object(6)\n",
      "memory usage: 6.0+ MB\n"
     ]
    }
   ],
   "source": [
    "print(df.shape)\n",
    "df.info()"
   ]
  },
  {
   "cell_type": "code",
   "execution_count": 5,
   "metadata": {},
   "outputs": [
    {
     "data": {
      "text/plain": "                 id       host_id      latitude     longitude         price  \\\ncount  4.889500e+04  4.889500e+04  48895.000000  48895.000000  48895.000000   \nmean   1.901714e+07  6.762001e+07     40.728949    -73.952170    152.720687   \nstd    1.098311e+07  7.861097e+07      0.054530      0.046157    240.154170   \nmin    2.539000e+03  2.438000e+03     40.499790    -74.244420      0.000000   \n25%    9.471945e+06  7.822033e+06     40.690100    -73.983070     69.000000   \n50%    1.967728e+07  3.079382e+07     40.723070    -73.955680    106.000000   \n75%    2.915218e+07  1.074344e+08     40.763115    -73.936275    175.000000   \nmax    3.648724e+07  2.743213e+08     40.913060    -73.712990  10000.000000   \n\n       minimum_nights  number_of_reviews  reviews_per_month  \\\ncount    48895.000000       48895.000000       38843.000000   \nmean         7.029962          23.274466           1.373221   \nstd         20.510550          44.550582           1.680442   \nmin          1.000000           0.000000           0.010000   \n25%          1.000000           1.000000           0.190000   \n50%          3.000000           5.000000           0.720000   \n75%          5.000000          24.000000           2.020000   \nmax       1250.000000         629.000000          58.500000   \n\n       calculated_host_listings_count  availability_365  \ncount                    48895.000000      48895.000000  \nmean                         7.143982        112.781327  \nstd                         32.952519        131.622289  \nmin                          1.000000          0.000000  \n25%                          1.000000          0.000000  \n50%                          1.000000         45.000000  \n75%                          2.000000        227.000000  \nmax                        327.000000        365.000000  ",
      "text/html": "<div>\n<style scoped>\n    .dataframe tbody tr th:only-of-type {\n        vertical-align: middle;\n    }\n\n    .dataframe tbody tr th {\n        vertical-align: top;\n    }\n\n    .dataframe thead th {\n        text-align: right;\n    }\n</style>\n<table border=\"1\" class=\"dataframe\">\n  <thead>\n    <tr style=\"text-align: right;\">\n      <th></th>\n      <th>id</th>\n      <th>host_id</th>\n      <th>latitude</th>\n      <th>longitude</th>\n      <th>price</th>\n      <th>minimum_nights</th>\n      <th>number_of_reviews</th>\n      <th>reviews_per_month</th>\n      <th>calculated_host_listings_count</th>\n      <th>availability_365</th>\n    </tr>\n  </thead>\n  <tbody>\n    <tr>\n      <th>count</th>\n      <td>4.889500e+04</td>\n      <td>4.889500e+04</td>\n      <td>48895.000000</td>\n      <td>48895.000000</td>\n      <td>48895.000000</td>\n      <td>48895.000000</td>\n      <td>48895.000000</td>\n      <td>38843.000000</td>\n      <td>48895.000000</td>\n      <td>48895.000000</td>\n    </tr>\n    <tr>\n      <th>mean</th>\n      <td>1.901714e+07</td>\n      <td>6.762001e+07</td>\n      <td>40.728949</td>\n      <td>-73.952170</td>\n      <td>152.720687</td>\n      <td>7.029962</td>\n      <td>23.274466</td>\n      <td>1.373221</td>\n      <td>7.143982</td>\n      <td>112.781327</td>\n    </tr>\n    <tr>\n      <th>std</th>\n      <td>1.098311e+07</td>\n      <td>7.861097e+07</td>\n      <td>0.054530</td>\n      <td>0.046157</td>\n      <td>240.154170</td>\n      <td>20.510550</td>\n      <td>44.550582</td>\n      <td>1.680442</td>\n      <td>32.952519</td>\n      <td>131.622289</td>\n    </tr>\n    <tr>\n      <th>min</th>\n      <td>2.539000e+03</td>\n      <td>2.438000e+03</td>\n      <td>40.499790</td>\n      <td>-74.244420</td>\n      <td>0.000000</td>\n      <td>1.000000</td>\n      <td>0.000000</td>\n      <td>0.010000</td>\n      <td>1.000000</td>\n      <td>0.000000</td>\n    </tr>\n    <tr>\n      <th>25%</th>\n      <td>9.471945e+06</td>\n      <td>7.822033e+06</td>\n      <td>40.690100</td>\n      <td>-73.983070</td>\n      <td>69.000000</td>\n      <td>1.000000</td>\n      <td>1.000000</td>\n      <td>0.190000</td>\n      <td>1.000000</td>\n      <td>0.000000</td>\n    </tr>\n    <tr>\n      <th>50%</th>\n      <td>1.967728e+07</td>\n      <td>3.079382e+07</td>\n      <td>40.723070</td>\n      <td>-73.955680</td>\n      <td>106.000000</td>\n      <td>3.000000</td>\n      <td>5.000000</td>\n      <td>0.720000</td>\n      <td>1.000000</td>\n      <td>45.000000</td>\n    </tr>\n    <tr>\n      <th>75%</th>\n      <td>2.915218e+07</td>\n      <td>1.074344e+08</td>\n      <td>40.763115</td>\n      <td>-73.936275</td>\n      <td>175.000000</td>\n      <td>5.000000</td>\n      <td>24.000000</td>\n      <td>2.020000</td>\n      <td>2.000000</td>\n      <td>227.000000</td>\n    </tr>\n    <tr>\n      <th>max</th>\n      <td>3.648724e+07</td>\n      <td>2.743213e+08</td>\n      <td>40.913060</td>\n      <td>-73.712990</td>\n      <td>10000.000000</td>\n      <td>1250.000000</td>\n      <td>629.000000</td>\n      <td>58.500000</td>\n      <td>327.000000</td>\n      <td>365.000000</td>\n    </tr>\n  </tbody>\n</table>\n</div>"
     },
     "execution_count": 5,
     "metadata": {},
     "output_type": "execute_result"
    }
   ],
   "source": [
    "df.describe()"
   ]
  },
  {
   "cell_type": "code",
   "execution_count": 6,
   "metadata": {
    "pycharm": {
     "name": "#%%\n"
    }
   },
   "outputs": [
    {
     "data": {
      "text/plain": "             id                                               name   host_id  \\\n9151    7003697                Furnished room in Astoria apartment  20582832   \n17692  13894339    Luxury 1 bedroom apt. -stunning Manhattan views   5143901   \n29238  22436899                                1-BR Lincoln Center  72390391   \n40433  31340283  2br - The Heart of NYC: Manhattans Lower East ...   4382127   \n12342   9528920                Quiet, Clean, Lit @ LES & Chinatown   3906464   \n\n      host_name neighbourhood_group    neighbourhood  latitude  longitude  \\\n9151   Kathrine              Queens          Astoria  40.76810  -73.91651   \n17692      Erin            Brooklyn       Greenpoint  40.73260  -73.95739   \n29238    Jelena           Manhattan  Upper West Side  40.77213  -73.98665   \n40433      Matt           Manhattan  Lower East Side  40.71980  -73.98566   \n12342       Amy           Manhattan  Lower East Side  40.71355  -73.98507   \n\n             room_type  price  minimum_nights  number_of_reviews last_review  \\\n9151      Private room  10000             100                  2  2016-02-13   \n17692  Entire home/apt  10000               5                  5  2017-07-27   \n29238  Entire home/apt  10000              30                  0         NaN   \n40433  Entire home/apt   9999              30                  0         NaN   \n12342     Private room   9999              99                  6  2016-01-01   \n\n       reviews_per_month  calculated_host_listings_count  availability_365  \n9151                0.04                               1                 0  \n17692               0.16                               1                 0  \n29238                NaN                               1                83  \n40433                NaN                               1               365  \n12342               0.14                               1                83  ",
      "text/html": "<div>\n<style scoped>\n    .dataframe tbody tr th:only-of-type {\n        vertical-align: middle;\n    }\n\n    .dataframe tbody tr th {\n        vertical-align: top;\n    }\n\n    .dataframe thead th {\n        text-align: right;\n    }\n</style>\n<table border=\"1\" class=\"dataframe\">\n  <thead>\n    <tr style=\"text-align: right;\">\n      <th></th>\n      <th>id</th>\n      <th>name</th>\n      <th>host_id</th>\n      <th>host_name</th>\n      <th>neighbourhood_group</th>\n      <th>neighbourhood</th>\n      <th>latitude</th>\n      <th>longitude</th>\n      <th>room_type</th>\n      <th>price</th>\n      <th>minimum_nights</th>\n      <th>number_of_reviews</th>\n      <th>last_review</th>\n      <th>reviews_per_month</th>\n      <th>calculated_host_listings_count</th>\n      <th>availability_365</th>\n    </tr>\n  </thead>\n  <tbody>\n    <tr>\n      <th>9151</th>\n      <td>7003697</td>\n      <td>Furnished room in Astoria apartment</td>\n      <td>20582832</td>\n      <td>Kathrine</td>\n      <td>Queens</td>\n      <td>Astoria</td>\n      <td>40.76810</td>\n      <td>-73.91651</td>\n      <td>Private room</td>\n      <td>10000</td>\n      <td>100</td>\n      <td>2</td>\n      <td>2016-02-13</td>\n      <td>0.04</td>\n      <td>1</td>\n      <td>0</td>\n    </tr>\n    <tr>\n      <th>17692</th>\n      <td>13894339</td>\n      <td>Luxury 1 bedroom apt. -stunning Manhattan views</td>\n      <td>5143901</td>\n      <td>Erin</td>\n      <td>Brooklyn</td>\n      <td>Greenpoint</td>\n      <td>40.73260</td>\n      <td>-73.95739</td>\n      <td>Entire home/apt</td>\n      <td>10000</td>\n      <td>5</td>\n      <td>5</td>\n      <td>2017-07-27</td>\n      <td>0.16</td>\n      <td>1</td>\n      <td>0</td>\n    </tr>\n    <tr>\n      <th>29238</th>\n      <td>22436899</td>\n      <td>1-BR Lincoln Center</td>\n      <td>72390391</td>\n      <td>Jelena</td>\n      <td>Manhattan</td>\n      <td>Upper West Side</td>\n      <td>40.77213</td>\n      <td>-73.98665</td>\n      <td>Entire home/apt</td>\n      <td>10000</td>\n      <td>30</td>\n      <td>0</td>\n      <td>NaN</td>\n      <td>NaN</td>\n      <td>1</td>\n      <td>83</td>\n    </tr>\n    <tr>\n      <th>40433</th>\n      <td>31340283</td>\n      <td>2br - The Heart of NYC: Manhattans Lower East ...</td>\n      <td>4382127</td>\n      <td>Matt</td>\n      <td>Manhattan</td>\n      <td>Lower East Side</td>\n      <td>40.71980</td>\n      <td>-73.98566</td>\n      <td>Entire home/apt</td>\n      <td>9999</td>\n      <td>30</td>\n      <td>0</td>\n      <td>NaN</td>\n      <td>NaN</td>\n      <td>1</td>\n      <td>365</td>\n    </tr>\n    <tr>\n      <th>12342</th>\n      <td>9528920</td>\n      <td>Quiet, Clean, Lit @ LES &amp; Chinatown</td>\n      <td>3906464</td>\n      <td>Amy</td>\n      <td>Manhattan</td>\n      <td>Lower East Side</td>\n      <td>40.71355</td>\n      <td>-73.98507</td>\n      <td>Private room</td>\n      <td>9999</td>\n      <td>99</td>\n      <td>6</td>\n      <td>2016-01-01</td>\n      <td>0.14</td>\n      <td>1</td>\n      <td>83</td>\n    </tr>\n  </tbody>\n</table>\n</div>"
     },
     "execution_count": 6,
     "metadata": {},
     "output_type": "execute_result"
    }
   ],
   "source": [
    "df.sort_values(by='price', ascending=False).head()"
   ]
  },
  {
   "cell_type": "code",
   "execution_count": 7,
   "metadata": {
    "pycharm": {
     "name": "#%%\n"
    }
   },
   "outputs": [
    {
     "data": {
      "text/plain": "neighbourhood_group  Bronx  Brooklyn  Manhattan  Queens  Staten Island    All\nprice                                                                        \n0                        1         9          1       0              0     11\n10                       1         6          7       3              0     17\n11                       0         1          1       1              0      3\n12                       0         1          2       1              0      4\n13                       0         0          0       0              1      1\n...                    ...       ...        ...     ...            ...    ...\n8000                     0         1          0       0              0      1\n8500                     0         0          1       0              0      1\n9999                     0         0          3       0              0      3\n10000                    0         1          1       1              0      3\nAll                   1091     20104      21661    5666            373  48895\n\n[675 rows x 6 columns]",
      "text/html": "<div>\n<style scoped>\n    .dataframe tbody tr th:only-of-type {\n        vertical-align: middle;\n    }\n\n    .dataframe tbody tr th {\n        vertical-align: top;\n    }\n\n    .dataframe thead th {\n        text-align: right;\n    }\n</style>\n<table border=\"1\" class=\"dataframe\">\n  <thead>\n    <tr style=\"text-align: right;\">\n      <th>neighbourhood_group</th>\n      <th>Bronx</th>\n      <th>Brooklyn</th>\n      <th>Manhattan</th>\n      <th>Queens</th>\n      <th>Staten Island</th>\n      <th>All</th>\n    </tr>\n    <tr>\n      <th>price</th>\n      <th></th>\n      <th></th>\n      <th></th>\n      <th></th>\n      <th></th>\n      <th></th>\n    </tr>\n  </thead>\n  <tbody>\n    <tr>\n      <th>0</th>\n      <td>1</td>\n      <td>9</td>\n      <td>1</td>\n      <td>0</td>\n      <td>0</td>\n      <td>11</td>\n    </tr>\n    <tr>\n      <th>10</th>\n      <td>1</td>\n      <td>6</td>\n      <td>7</td>\n      <td>3</td>\n      <td>0</td>\n      <td>17</td>\n    </tr>\n    <tr>\n      <th>11</th>\n      <td>0</td>\n      <td>1</td>\n      <td>1</td>\n      <td>1</td>\n      <td>0</td>\n      <td>3</td>\n    </tr>\n    <tr>\n      <th>12</th>\n      <td>0</td>\n      <td>1</td>\n      <td>2</td>\n      <td>1</td>\n      <td>0</td>\n      <td>4</td>\n    </tr>\n    <tr>\n      <th>13</th>\n      <td>0</td>\n      <td>0</td>\n      <td>0</td>\n      <td>0</td>\n      <td>1</td>\n      <td>1</td>\n    </tr>\n    <tr>\n      <th>...</th>\n      <td>...</td>\n      <td>...</td>\n      <td>...</td>\n      <td>...</td>\n      <td>...</td>\n      <td>...</td>\n    </tr>\n    <tr>\n      <th>8000</th>\n      <td>0</td>\n      <td>1</td>\n      <td>0</td>\n      <td>0</td>\n      <td>0</td>\n      <td>1</td>\n    </tr>\n    <tr>\n      <th>8500</th>\n      <td>0</td>\n      <td>0</td>\n      <td>1</td>\n      <td>0</td>\n      <td>0</td>\n      <td>1</td>\n    </tr>\n    <tr>\n      <th>9999</th>\n      <td>0</td>\n      <td>0</td>\n      <td>3</td>\n      <td>0</td>\n      <td>0</td>\n      <td>3</td>\n    </tr>\n    <tr>\n      <th>10000</th>\n      <td>0</td>\n      <td>1</td>\n      <td>1</td>\n      <td>1</td>\n      <td>0</td>\n      <td>3</td>\n    </tr>\n    <tr>\n      <th>All</th>\n      <td>1091</td>\n      <td>20104</td>\n      <td>21661</td>\n      <td>5666</td>\n      <td>373</td>\n      <td>48895</td>\n    </tr>\n  </tbody>\n</table>\n<p>675 rows × 6 columns</p>\n</div>"
     },
     "execution_count": 7,
     "metadata": {},
     "output_type": "execute_result"
    }
   ],
   "source": [
    "pd.crosstab(df['price'], df['neighbourhood_group'], margins=True)"
   ]
  },
  {
   "cell_type": "markdown",
   "source": [
    "price higher in brooklyn and manhattan"
   ],
   "metadata": {
    "collapsed": false
   }
  },
  {
   "cell_type": "code",
   "execution_count": 8,
   "metadata": {
    "pycharm": {
     "name": "#%%\n"
    }
   },
   "outputs": [
    {
     "data": {
      "text/plain": "neighbourhood  Allerton  Arden Heights  Arrochar  Arverne  Astoria  \\\nprice                                                                \n0                     0              0         0        0        0   \n10                    0              0         0        0        0   \n11                    0              0         0        0        0   \n12                    0              0         0        0        0   \n13                    0              0         0        0        0   \n...                 ...            ...       ...      ...      ...   \n8000                  0              0         0        0        0   \n8500                  0              0         0        0        0   \n9999                  0              0         0        0        0   \n10000                 0              0         0        0        1   \nAll                  42              4        21       77      900   \n\nneighbourhood  Bath Beach  Battery Park City  Bay Ridge  Bay Terrace  \\\nprice                                                                  \n0                       0                  0          0            0   \n10                      0                  0          0            0   \n11                      0                  0          0            0   \n12                      0                  0          0            0   \n13                      0                  0          0            0   \n...                   ...                ...        ...          ...   \n8000                    0                  0          0            0   \n8500                    0                  0          0            0   \n9999                    0                  0          0            0   \n10000                   0                  0          0            0   \nAll                    17                 70        141            6   \n\nneighbourhood  Bay Terrace, Staten Island  ...  Whitestone  Williamsbridge  \\\nprice                                      ...                               \n0                                       0  ...           0               0   \n10                                      0  ...           0               0   \n11                                      0  ...           0               0   \n12                                      0  ...           0               0   \n13                                      0  ...           0               0   \n...                                   ...  ...         ...             ...   \n8000                                    0  ...           0               0   \n8500                                    0  ...           0               0   \n9999                                    0  ...           0               0   \n10000                                   0  ...           0               0   \nAll                                     2  ...          11              40   \n\nneighbourhood  Williamsburg  Willowbrook  Windsor Terrace  Woodhaven  \\\nprice                                                                  \n0                         1            0                0          0   \n10                        1            0                0          1   \n11                        0            0                0          0   \n12                        0            0                0          0   \n13                        0            0                0          0   \n...                     ...          ...              ...        ...   \n8000                      0            0                0          0   \n8500                      0            0                0          0   \n9999                      0            0                0          0   \n10000                     0            0                0          0   \nAll                    3920            1              157         88   \n\nneighbourhood  Woodlawn  Woodrow  Woodside    All  \nprice                                              \n0                     0        0         0     11  \n10                    0        0         0     17  \n11                    0        0         0      3  \n12                    0        0         0      4  \n13                    0        0         0      1  \n...                 ...      ...       ...    ...  \n8000                  0        0         0      1  \n8500                  0        0         0      1  \n9999                  0        0         0      3  \n10000                 0        0         0      3  \nAll                  11        1       235  48895  \n\n[675 rows x 222 columns]",
      "text/html": "<div>\n<style scoped>\n    .dataframe tbody tr th:only-of-type {\n        vertical-align: middle;\n    }\n\n    .dataframe tbody tr th {\n        vertical-align: top;\n    }\n\n    .dataframe thead th {\n        text-align: right;\n    }\n</style>\n<table border=\"1\" class=\"dataframe\">\n  <thead>\n    <tr style=\"text-align: right;\">\n      <th>neighbourhood</th>\n      <th>Allerton</th>\n      <th>Arden Heights</th>\n      <th>Arrochar</th>\n      <th>Arverne</th>\n      <th>Astoria</th>\n      <th>Bath Beach</th>\n      <th>Battery Park City</th>\n      <th>Bay Ridge</th>\n      <th>Bay Terrace</th>\n      <th>Bay Terrace, Staten Island</th>\n      <th>...</th>\n      <th>Whitestone</th>\n      <th>Williamsbridge</th>\n      <th>Williamsburg</th>\n      <th>Willowbrook</th>\n      <th>Windsor Terrace</th>\n      <th>Woodhaven</th>\n      <th>Woodlawn</th>\n      <th>Woodrow</th>\n      <th>Woodside</th>\n      <th>All</th>\n    </tr>\n    <tr>\n      <th>price</th>\n      <th></th>\n      <th></th>\n      <th></th>\n      <th></th>\n      <th></th>\n      <th></th>\n      <th></th>\n      <th></th>\n      <th></th>\n      <th></th>\n      <th></th>\n      <th></th>\n      <th></th>\n      <th></th>\n      <th></th>\n      <th></th>\n      <th></th>\n      <th></th>\n      <th></th>\n      <th></th>\n      <th></th>\n    </tr>\n  </thead>\n  <tbody>\n    <tr>\n      <th>0</th>\n      <td>0</td>\n      <td>0</td>\n      <td>0</td>\n      <td>0</td>\n      <td>0</td>\n      <td>0</td>\n      <td>0</td>\n      <td>0</td>\n      <td>0</td>\n      <td>0</td>\n      <td>...</td>\n      <td>0</td>\n      <td>0</td>\n      <td>1</td>\n      <td>0</td>\n      <td>0</td>\n      <td>0</td>\n      <td>0</td>\n      <td>0</td>\n      <td>0</td>\n      <td>11</td>\n    </tr>\n    <tr>\n      <th>10</th>\n      <td>0</td>\n      <td>0</td>\n      <td>0</td>\n      <td>0</td>\n      <td>0</td>\n      <td>0</td>\n      <td>0</td>\n      <td>0</td>\n      <td>0</td>\n      <td>0</td>\n      <td>...</td>\n      <td>0</td>\n      <td>0</td>\n      <td>1</td>\n      <td>0</td>\n      <td>0</td>\n      <td>1</td>\n      <td>0</td>\n      <td>0</td>\n      <td>0</td>\n      <td>17</td>\n    </tr>\n    <tr>\n      <th>11</th>\n      <td>0</td>\n      <td>0</td>\n      <td>0</td>\n      <td>0</td>\n      <td>0</td>\n      <td>0</td>\n      <td>0</td>\n      <td>0</td>\n      <td>0</td>\n      <td>0</td>\n      <td>...</td>\n      <td>0</td>\n      <td>0</td>\n      <td>0</td>\n      <td>0</td>\n      <td>0</td>\n      <td>0</td>\n      <td>0</td>\n      <td>0</td>\n      <td>0</td>\n      <td>3</td>\n    </tr>\n    <tr>\n      <th>12</th>\n      <td>0</td>\n      <td>0</td>\n      <td>0</td>\n      <td>0</td>\n      <td>0</td>\n      <td>0</td>\n      <td>0</td>\n      <td>0</td>\n      <td>0</td>\n      <td>0</td>\n      <td>...</td>\n      <td>0</td>\n      <td>0</td>\n      <td>0</td>\n      <td>0</td>\n      <td>0</td>\n      <td>0</td>\n      <td>0</td>\n      <td>0</td>\n      <td>0</td>\n      <td>4</td>\n    </tr>\n    <tr>\n      <th>13</th>\n      <td>0</td>\n      <td>0</td>\n      <td>0</td>\n      <td>0</td>\n      <td>0</td>\n      <td>0</td>\n      <td>0</td>\n      <td>0</td>\n      <td>0</td>\n      <td>0</td>\n      <td>...</td>\n      <td>0</td>\n      <td>0</td>\n      <td>0</td>\n      <td>0</td>\n      <td>0</td>\n      <td>0</td>\n      <td>0</td>\n      <td>0</td>\n      <td>0</td>\n      <td>1</td>\n    </tr>\n    <tr>\n      <th>...</th>\n      <td>...</td>\n      <td>...</td>\n      <td>...</td>\n      <td>...</td>\n      <td>...</td>\n      <td>...</td>\n      <td>...</td>\n      <td>...</td>\n      <td>...</td>\n      <td>...</td>\n      <td>...</td>\n      <td>...</td>\n      <td>...</td>\n      <td>...</td>\n      <td>...</td>\n      <td>...</td>\n      <td>...</td>\n      <td>...</td>\n      <td>...</td>\n      <td>...</td>\n      <td>...</td>\n    </tr>\n    <tr>\n      <th>8000</th>\n      <td>0</td>\n      <td>0</td>\n      <td>0</td>\n      <td>0</td>\n      <td>0</td>\n      <td>0</td>\n      <td>0</td>\n      <td>0</td>\n      <td>0</td>\n      <td>0</td>\n      <td>...</td>\n      <td>0</td>\n      <td>0</td>\n      <td>0</td>\n      <td>0</td>\n      <td>0</td>\n      <td>0</td>\n      <td>0</td>\n      <td>0</td>\n      <td>0</td>\n      <td>1</td>\n    </tr>\n    <tr>\n      <th>8500</th>\n      <td>0</td>\n      <td>0</td>\n      <td>0</td>\n      <td>0</td>\n      <td>0</td>\n      <td>0</td>\n      <td>0</td>\n      <td>0</td>\n      <td>0</td>\n      <td>0</td>\n      <td>...</td>\n      <td>0</td>\n      <td>0</td>\n      <td>0</td>\n      <td>0</td>\n      <td>0</td>\n      <td>0</td>\n      <td>0</td>\n      <td>0</td>\n      <td>0</td>\n      <td>1</td>\n    </tr>\n    <tr>\n      <th>9999</th>\n      <td>0</td>\n      <td>0</td>\n      <td>0</td>\n      <td>0</td>\n      <td>0</td>\n      <td>0</td>\n      <td>0</td>\n      <td>0</td>\n      <td>0</td>\n      <td>0</td>\n      <td>...</td>\n      <td>0</td>\n      <td>0</td>\n      <td>0</td>\n      <td>0</td>\n      <td>0</td>\n      <td>0</td>\n      <td>0</td>\n      <td>0</td>\n      <td>0</td>\n      <td>3</td>\n    </tr>\n    <tr>\n      <th>10000</th>\n      <td>0</td>\n      <td>0</td>\n      <td>0</td>\n      <td>0</td>\n      <td>1</td>\n      <td>0</td>\n      <td>0</td>\n      <td>0</td>\n      <td>0</td>\n      <td>0</td>\n      <td>...</td>\n      <td>0</td>\n      <td>0</td>\n      <td>0</td>\n      <td>0</td>\n      <td>0</td>\n      <td>0</td>\n      <td>0</td>\n      <td>0</td>\n      <td>0</td>\n      <td>3</td>\n    </tr>\n    <tr>\n      <th>All</th>\n      <td>42</td>\n      <td>4</td>\n      <td>21</td>\n      <td>77</td>\n      <td>900</td>\n      <td>17</td>\n      <td>70</td>\n      <td>141</td>\n      <td>6</td>\n      <td>2</td>\n      <td>...</td>\n      <td>11</td>\n      <td>40</td>\n      <td>3920</td>\n      <td>1</td>\n      <td>157</td>\n      <td>88</td>\n      <td>11</td>\n      <td>1</td>\n      <td>235</td>\n      <td>48895</td>\n    </tr>\n  </tbody>\n</table>\n<p>675 rows × 222 columns</p>\n</div>"
     },
     "execution_count": 8,
     "metadata": {},
     "output_type": "execute_result"
    }
   ],
   "source": [
    "pd.crosstab(df['price'], df['neighbourhood'], margins=True)"
   ]
  },
  {
   "cell_type": "code",
   "execution_count": 13,
   "outputs": [
    {
     "data": {
      "text/plain": "number_of_reviews      0     1     2     3     4     5     6     7     8    9  \\\nprice                                                                           \n0                      1     1     1     1     0     1     0     0     0    0   \n10                     5     0     4     0     1     1     0     0     0    0   \n11                     2     0     0     0     0     0     0     0     0    0   \n12                     3     0     0     0     0     0     0     0     1    0   \n13                     0     0     0     0     0     0     0     0     0    1   \n...                  ...   ...   ...   ...   ...   ...   ...   ...   ...  ...   \n8000                   0     1     0     0     0     0     0     0     0    0   \n8500                   0     0     1     0     0     0     0     0     0    0   \n9999                   1     1     0     0     0     0     1     0     0    0   \n10000                  1     0     1     0     0     1     0     0     0    0   \nAll                10052  5244  3465  2520  1994  1618  1357  1179  1127  964   \n\nnumber_of_reviews  ...  488  510  540  543  576  594  597  607  629    All  \nprice              ...                                                      \n0                  ...    0    0    0    0    0    0    0    0    0     11  \n10                 ...    0    0    0    0    0    0    0    0    0     17  \n11                 ...    0    0    0    0    0    0    0    0    0      3  \n12                 ...    0    0    0    0    0    0    0    0    0      4  \n13                 ...    0    0    0    0    0    0    0    0    0      1  \n...                ...  ...  ...  ...  ...  ...  ...  ...  ...  ...    ...  \n8000               ...    0    0    0    0    0    0    0    0    0      1  \n8500               ...    0    0    0    0    0    0    0    0    0      1  \n9999               ...    0    0    0    0    0    0    0    0    0      3  \n10000              ...    0    0    0    0    0    0    0    0    0      3  \nAll                ...    1    1    1    1    1    1    1    1    1  48895  \n\n[675 rows x 395 columns]",
      "text/html": "<div>\n<style scoped>\n    .dataframe tbody tr th:only-of-type {\n        vertical-align: middle;\n    }\n\n    .dataframe tbody tr th {\n        vertical-align: top;\n    }\n\n    .dataframe thead th {\n        text-align: right;\n    }\n</style>\n<table border=\"1\" class=\"dataframe\">\n  <thead>\n    <tr style=\"text-align: right;\">\n      <th>number_of_reviews</th>\n      <th>0</th>\n      <th>1</th>\n      <th>2</th>\n      <th>3</th>\n      <th>4</th>\n      <th>5</th>\n      <th>6</th>\n      <th>7</th>\n      <th>8</th>\n      <th>9</th>\n      <th>...</th>\n      <th>488</th>\n      <th>510</th>\n      <th>540</th>\n      <th>543</th>\n      <th>576</th>\n      <th>594</th>\n      <th>597</th>\n      <th>607</th>\n      <th>629</th>\n      <th>All</th>\n    </tr>\n    <tr>\n      <th>price</th>\n      <th></th>\n      <th></th>\n      <th></th>\n      <th></th>\n      <th></th>\n      <th></th>\n      <th></th>\n      <th></th>\n      <th></th>\n      <th></th>\n      <th></th>\n      <th></th>\n      <th></th>\n      <th></th>\n      <th></th>\n      <th></th>\n      <th></th>\n      <th></th>\n      <th></th>\n      <th></th>\n      <th></th>\n    </tr>\n  </thead>\n  <tbody>\n    <tr>\n      <th>0</th>\n      <td>1</td>\n      <td>1</td>\n      <td>1</td>\n      <td>1</td>\n      <td>0</td>\n      <td>1</td>\n      <td>0</td>\n      <td>0</td>\n      <td>0</td>\n      <td>0</td>\n      <td>...</td>\n      <td>0</td>\n      <td>0</td>\n      <td>0</td>\n      <td>0</td>\n      <td>0</td>\n      <td>0</td>\n      <td>0</td>\n      <td>0</td>\n      <td>0</td>\n      <td>11</td>\n    </tr>\n    <tr>\n      <th>10</th>\n      <td>5</td>\n      <td>0</td>\n      <td>4</td>\n      <td>0</td>\n      <td>1</td>\n      <td>1</td>\n      <td>0</td>\n      <td>0</td>\n      <td>0</td>\n      <td>0</td>\n      <td>...</td>\n      <td>0</td>\n      <td>0</td>\n      <td>0</td>\n      <td>0</td>\n      <td>0</td>\n      <td>0</td>\n      <td>0</td>\n      <td>0</td>\n      <td>0</td>\n      <td>17</td>\n    </tr>\n    <tr>\n      <th>11</th>\n      <td>2</td>\n      <td>0</td>\n      <td>0</td>\n      <td>0</td>\n      <td>0</td>\n      <td>0</td>\n      <td>0</td>\n      <td>0</td>\n      <td>0</td>\n      <td>0</td>\n      <td>...</td>\n      <td>0</td>\n      <td>0</td>\n      <td>0</td>\n      <td>0</td>\n      <td>0</td>\n      <td>0</td>\n      <td>0</td>\n      <td>0</td>\n      <td>0</td>\n      <td>3</td>\n    </tr>\n    <tr>\n      <th>12</th>\n      <td>3</td>\n      <td>0</td>\n      <td>0</td>\n      <td>0</td>\n      <td>0</td>\n      <td>0</td>\n      <td>0</td>\n      <td>0</td>\n      <td>1</td>\n      <td>0</td>\n      <td>...</td>\n      <td>0</td>\n      <td>0</td>\n      <td>0</td>\n      <td>0</td>\n      <td>0</td>\n      <td>0</td>\n      <td>0</td>\n      <td>0</td>\n      <td>0</td>\n      <td>4</td>\n    </tr>\n    <tr>\n      <th>13</th>\n      <td>0</td>\n      <td>0</td>\n      <td>0</td>\n      <td>0</td>\n      <td>0</td>\n      <td>0</td>\n      <td>0</td>\n      <td>0</td>\n      <td>0</td>\n      <td>1</td>\n      <td>...</td>\n      <td>0</td>\n      <td>0</td>\n      <td>0</td>\n      <td>0</td>\n      <td>0</td>\n      <td>0</td>\n      <td>0</td>\n      <td>0</td>\n      <td>0</td>\n      <td>1</td>\n    </tr>\n    <tr>\n      <th>...</th>\n      <td>...</td>\n      <td>...</td>\n      <td>...</td>\n      <td>...</td>\n      <td>...</td>\n      <td>...</td>\n      <td>...</td>\n      <td>...</td>\n      <td>...</td>\n      <td>...</td>\n      <td>...</td>\n      <td>...</td>\n      <td>...</td>\n      <td>...</td>\n      <td>...</td>\n      <td>...</td>\n      <td>...</td>\n      <td>...</td>\n      <td>...</td>\n      <td>...</td>\n      <td>...</td>\n    </tr>\n    <tr>\n      <th>8000</th>\n      <td>0</td>\n      <td>1</td>\n      <td>0</td>\n      <td>0</td>\n      <td>0</td>\n      <td>0</td>\n      <td>0</td>\n      <td>0</td>\n      <td>0</td>\n      <td>0</td>\n      <td>...</td>\n      <td>0</td>\n      <td>0</td>\n      <td>0</td>\n      <td>0</td>\n      <td>0</td>\n      <td>0</td>\n      <td>0</td>\n      <td>0</td>\n      <td>0</td>\n      <td>1</td>\n    </tr>\n    <tr>\n      <th>8500</th>\n      <td>0</td>\n      <td>0</td>\n      <td>1</td>\n      <td>0</td>\n      <td>0</td>\n      <td>0</td>\n      <td>0</td>\n      <td>0</td>\n      <td>0</td>\n      <td>0</td>\n      <td>...</td>\n      <td>0</td>\n      <td>0</td>\n      <td>0</td>\n      <td>0</td>\n      <td>0</td>\n      <td>0</td>\n      <td>0</td>\n      <td>0</td>\n      <td>0</td>\n      <td>1</td>\n    </tr>\n    <tr>\n      <th>9999</th>\n      <td>1</td>\n      <td>1</td>\n      <td>0</td>\n      <td>0</td>\n      <td>0</td>\n      <td>0</td>\n      <td>1</td>\n      <td>0</td>\n      <td>0</td>\n      <td>0</td>\n      <td>...</td>\n      <td>0</td>\n      <td>0</td>\n      <td>0</td>\n      <td>0</td>\n      <td>0</td>\n      <td>0</td>\n      <td>0</td>\n      <td>0</td>\n      <td>0</td>\n      <td>3</td>\n    </tr>\n    <tr>\n      <th>10000</th>\n      <td>1</td>\n      <td>0</td>\n      <td>1</td>\n      <td>0</td>\n      <td>0</td>\n      <td>1</td>\n      <td>0</td>\n      <td>0</td>\n      <td>0</td>\n      <td>0</td>\n      <td>...</td>\n      <td>0</td>\n      <td>0</td>\n      <td>0</td>\n      <td>0</td>\n      <td>0</td>\n      <td>0</td>\n      <td>0</td>\n      <td>0</td>\n      <td>0</td>\n      <td>3</td>\n    </tr>\n    <tr>\n      <th>All</th>\n      <td>10052</td>\n      <td>5244</td>\n      <td>3465</td>\n      <td>2520</td>\n      <td>1994</td>\n      <td>1618</td>\n      <td>1357</td>\n      <td>1179</td>\n      <td>1127</td>\n      <td>964</td>\n      <td>...</td>\n      <td>1</td>\n      <td>1</td>\n      <td>1</td>\n      <td>1</td>\n      <td>1</td>\n      <td>1</td>\n      <td>1</td>\n      <td>1</td>\n      <td>1</td>\n      <td>48895</td>\n    </tr>\n  </tbody>\n</table>\n<p>675 rows × 395 columns</p>\n</div>"
     },
     "execution_count": 13,
     "metadata": {},
     "output_type": "execute_result"
    }
   ],
   "source": [
    "pd.crosstab(df['price'], df['number_of_reviews'], margins=True)\n",
    "\n"
   ],
   "metadata": {
    "collapsed": false,
    "pycharm": {
     "name": "#%%\n"
    }
   }
  },
  {
   "cell_type": "code",
   "execution_count": 17,
   "outputs": [
    {
     "data": {
      "text/plain": "       count       mean        std  min   50%    max\nprice                                               \n0       11.0  34.272727  41.523706  0.0  12.0   95.0\n10      17.0  14.176471  24.599886  0.0   2.0   93.0\n11       3.0  37.666667  65.240580  0.0   0.0  113.0\n12       4.0   2.000000   4.000000  0.0   0.0    8.0\n13       1.0   9.000000        NaN  9.0   9.0    9.0\n...      ...        ...        ...  ...   ...    ...\n7703     1.0   0.000000        NaN  0.0   0.0    0.0\n8000     1.0   1.000000        NaN  1.0   1.0    1.0\n8500     1.0   2.000000        NaN  2.0   2.0    2.0\n9999     3.0   2.333333   3.214550  0.0   1.0    6.0\n10000    3.0   2.333333   2.516611  0.0   2.0    5.0\n\n[674 rows x 6 columns]",
      "text/html": "<div>\n<style scoped>\n    .dataframe tbody tr th:only-of-type {\n        vertical-align: middle;\n    }\n\n    .dataframe tbody tr th {\n        vertical-align: top;\n    }\n\n    .dataframe thead th {\n        text-align: right;\n    }\n</style>\n<table border=\"1\" class=\"dataframe\">\n  <thead>\n    <tr style=\"text-align: right;\">\n      <th></th>\n      <th>count</th>\n      <th>mean</th>\n      <th>std</th>\n      <th>min</th>\n      <th>50%</th>\n      <th>max</th>\n    </tr>\n    <tr>\n      <th>price</th>\n      <th></th>\n      <th></th>\n      <th></th>\n      <th></th>\n      <th></th>\n      <th></th>\n    </tr>\n  </thead>\n  <tbody>\n    <tr>\n      <th>0</th>\n      <td>11.0</td>\n      <td>34.272727</td>\n      <td>41.523706</td>\n      <td>0.0</td>\n      <td>12.0</td>\n      <td>95.0</td>\n    </tr>\n    <tr>\n      <th>10</th>\n      <td>17.0</td>\n      <td>14.176471</td>\n      <td>24.599886</td>\n      <td>0.0</td>\n      <td>2.0</td>\n      <td>93.0</td>\n    </tr>\n    <tr>\n      <th>11</th>\n      <td>3.0</td>\n      <td>37.666667</td>\n      <td>65.240580</td>\n      <td>0.0</td>\n      <td>0.0</td>\n      <td>113.0</td>\n    </tr>\n    <tr>\n      <th>12</th>\n      <td>4.0</td>\n      <td>2.000000</td>\n      <td>4.000000</td>\n      <td>0.0</td>\n      <td>0.0</td>\n      <td>8.0</td>\n    </tr>\n    <tr>\n      <th>13</th>\n      <td>1.0</td>\n      <td>9.000000</td>\n      <td>NaN</td>\n      <td>9.0</td>\n      <td>9.0</td>\n      <td>9.0</td>\n    </tr>\n    <tr>\n      <th>...</th>\n      <td>...</td>\n      <td>...</td>\n      <td>...</td>\n      <td>...</td>\n      <td>...</td>\n      <td>...</td>\n    </tr>\n    <tr>\n      <th>7703</th>\n      <td>1.0</td>\n      <td>0.000000</td>\n      <td>NaN</td>\n      <td>0.0</td>\n      <td>0.0</td>\n      <td>0.0</td>\n    </tr>\n    <tr>\n      <th>8000</th>\n      <td>1.0</td>\n      <td>1.000000</td>\n      <td>NaN</td>\n      <td>1.0</td>\n      <td>1.0</td>\n      <td>1.0</td>\n    </tr>\n    <tr>\n      <th>8500</th>\n      <td>1.0</td>\n      <td>2.000000</td>\n      <td>NaN</td>\n      <td>2.0</td>\n      <td>2.0</td>\n      <td>2.0</td>\n    </tr>\n    <tr>\n      <th>9999</th>\n      <td>3.0</td>\n      <td>2.333333</td>\n      <td>3.214550</td>\n      <td>0.0</td>\n      <td>1.0</td>\n      <td>6.0</td>\n    </tr>\n    <tr>\n      <th>10000</th>\n      <td>3.0</td>\n      <td>2.333333</td>\n      <td>2.516611</td>\n      <td>0.0</td>\n      <td>2.0</td>\n      <td>5.0</td>\n    </tr>\n  </tbody>\n</table>\n<p>674 rows × 6 columns</p>\n</div>"
     },
     "execution_count": 17,
     "metadata": {},
     "output_type": "execute_result"
    }
   ],
   "source": [
    "df.fillna({'revews_per_month':0}, inplace=True)\n",
    "df.groupby(['price'])['number_of_reviews'].describe(percentiles=[])\n"
   ],
   "metadata": {
    "collapsed": false,
    "pycharm": {
     "name": "#%%\n"
    }
   }
  },
  {
   "cell_type": "code",
   "execution_count": null,
   "metadata": {},
   "outputs": [],
   "source": []
  }
 ],
 "metadata": {
  "kernelspec": {
   "display_name": "Python 3",
   "language": "python",
   "name": "python3"
  },
  "language_info": {
   "codemirror_mode": {
    "name": "ipython",
    "version": 3
   },
   "file_extension": ".py",
   "mimetype": "text/x-python",
   "name": "python",
   "nbconvert_exporter": "python",
   "pygments_lexer": "ipython3",
   "version": "3.8.2"
  }
 },
 "nbformat": 4,
 "nbformat_minor": 1
}